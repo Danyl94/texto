{
 "cells": [
  {
   "cell_type": "markdown",
   "metadata": {},
   "source": [
    "# PLN con Redes Neuronales"
   ]
  },
  {
   "cell_type": "code",
   "execution_count": 1,
   "metadata": {},
   "outputs": [],
   "source": [
    "import re\n",
    "import pandas as pd\n",
    "import numpy as np\n",
    "import nltk\n",
    "from nltk import *\n",
    "\n",
    "from sklearn.feature_extraction.text import CountVectorizer, TfidfVectorizer\n",
    "from sklearn.metrics import accuracy_score, f1_score"
   ]
  },
  {
   "cell_type": "markdown",
   "metadata": {},
   "source": [
    "### Leyendo el corpus A"
   ]
  },
  {
   "cell_type": "code",
   "execution_count": 2,
   "metadata": {},
   "outputs": [],
   "source": [
    "corpus_train_esA = pd.read_csv('public_development_esTaskA/train_es.tsv',delimiter='\\t',encoding='utf-8')\n",
    "corpus_dev_esA = pd.read_csv('public_development_esTaskA/dev_es.tsv',delimiter='\\t',encoding='utf-8')"
   ]
  },
  {
   "cell_type": "markdown",
   "metadata": {},
   "source": [
    "### Limpieza en los datos\n",
    "* Cambiar todas las palabras de mayúsculas a minúsculas\n",
    "* Se han eliminado las '@' de @USUARIO con el fin de facilitar el etiquetado morfológico\n",
    "* Quitar los links \n",
    "* Quitar los emojis\n",
    "* Eliminar las stopwords\n",
    "* Se han reemplazado todos los números por el símbolo '0'\n",
    "* Quitar los signos de puntuación y quitar espacios (tabuladores, etc)"
   ]
  },
  {
   "cell_type": "code",
   "execution_count": 3,
   "metadata": {},
   "outputs": [],
   "source": [
    "pattern_URL=\"(https?:\\/\\/(?:www\\.|(?!www))[a-zA-Z0-9][a-zA-Z0-9-]+[a-zA-Z0-9]\\.[^\\s]{2,}|www\\.[a-zA-Z0-9][a-zA-Z0-9-]+[a-zA-Z0-9]\\.[^\\s]{2,}|https?:\\/\\/(?:www\\.|(?!www))[a-zA-Z0-9]\\.[^\\s]{2,}|www\\.[a-zA-Z0-9]\\.[^\\s]{2,})\"\n",
    "\n",
    "def procesar(file, namefile):    \n",
    "    file[file.columns[1]] = [clean_text(i) for i in file[file.columns[1]]]    \n",
    "    file.to_csv(namefile, sep='\\t', encoding='utf-8', index=False)\n",
    "    return file\n",
    "    \n",
    "def clean_text(text):\n",
    "    text = text.lower()   \n",
    "    #text=re.sub(\"@([A-Za-z0-9_]{1,15})\", \"@USUARIO\", text)\n",
    "    text=re.sub(\"@([A-Za-z0-9_]{1,15})\", \" \", text)\n",
    "    text=re.sub(pattern_URL, \" \", text)\n",
    "    \n",
    "    text= remove_emoji(text)\n",
    "    text= remove_stopwords(text)\n",
    "    text=re.sub(\"\\d+\", \"0\", text)\n",
    "    # text=re.sub(\"\\d+\", \" \", text)\n",
    "    \n",
    "    text=re.sub(r\" +\", \" \", re.sub(r\"\\t\", \" \", re.sub(r\"\\n+\", \"\\n\", re.sub('(?:[.,\\/!$%?¿?!¡\\^&\\*;:{}=><\\-_`~()”“\"\\'\\|])', \" \",text))))\n",
    "    text = text.strip()\n",
    "    return text\n",
    "\n",
    "def remove_stopwords(text):    \n",
    "    stopwords=set(nltk.corpus.stopwords.words(\"spanish\"))\n",
    "    for i in stopwords:\n",
    "        text = re.sub(r\"\\b%s\\b\" % i, \" \", text)\n",
    "    return text\n",
    "\n",
    "def remove_emoji(text):\n",
    "    emoji_pattern = re.compile(\"[\"\n",
    "                               \"\\U0001F600-\\U0001F64F\"  # emoticons\n",
    "                               \"\\U0001F300-\\U0001F5FF\"  # symbols & pictographs                               \n",
    "                               \"\\U0001F680-\\U0001F6FF\"  # transport & map symbols\n",
    "                               \"\\U0001F1E0-\\U0001F1FF\"  # flags (iOS)\n",
    "                               \"\\U00002702-\\U000027B0\"\n",
    "                               \"\\U000024C2-\\U0001F251\"\n",
    "                               \"\\U0001f926-\\U0001f937\"\n",
    "                               \"\\u200d\"\n",
    "                               \"\\u2640-\\u2642\"\n",
    "                               \"\\U0001F1F2-\\U0001F1F4\"  # Macau flag\n",
    "                               \"\\U0001F1E6-\\U0001F1FF\"  # flags\n",
    "                               \"\\U0001F600-\\U0001F64F\"\n",
    "                               \"\\U0001F1F2\"\n",
    "                               \"\\U0001F1F4\"\n",
    "                               \"\\U0001F620\"\n",
    "                               \"]+\", flags=re.UNICODE)   \n",
    "    text = emoji_pattern.sub(r'', text) # no emoji\n",
    "    return text"
   ]
  },
  {
   "cell_type": "markdown",
   "metadata": {},
   "source": [
    "### Guardando el corpus ya procesado A"
   ]
  },
  {
   "cell_type": "code",
   "execution_count": 13,
   "metadata": {},
   "outputs": [
    {
     "data": {
      "text/html": [
       "<div>\n",
       "<style scoped>\n",
       "    .dataframe tbody tr th:only-of-type {\n",
       "        vertical-align: middle;\n",
       "    }\n",
       "\n",
       "    .dataframe tbody tr th {\n",
       "        vertical-align: top;\n",
       "    }\n",
       "\n",
       "    .dataframe thead th {\n",
       "        text-align: right;\n",
       "    }\n",
       "</style>\n",
       "<table border=\"1\" class=\"dataframe\">\n",
       "  <thead>\n",
       "    <tr style=\"text-align: right;\">\n",
       "      <th></th>\n",
       "      <th>id</th>\n",
       "      <th>text</th>\n",
       "      <th>HS</th>\n",
       "      <th>TR</th>\n",
       "      <th>AG</th>\n",
       "    </tr>\n",
       "  </thead>\n",
       "  <tbody>\n",
       "    <tr>\n",
       "      <th>0</th>\n",
       "      <td>20005</td>\n",
       "      <td>comiendo picada árabe rica vida</td>\n",
       "      <td>0</td>\n",
       "      <td>0</td>\n",
       "      <td>0</td>\n",
       "    </tr>\n",
       "    <tr>\n",
       "      <th>1</th>\n",
       "      <td>20006</td>\n",
       "      <td>callate zorra mama duro</td>\n",
       "      <td>1</td>\n",
       "      <td>1</td>\n",
       "      <td>1</td>\n",
       "    </tr>\n",
       "    <tr>\n",
       "      <th>2</th>\n",
       "      <td>20011</td>\n",
       "      <td>acabo escuchar casado diciendo decenas millone...</td>\n",
       "      <td>0</td>\n",
       "      <td>0</td>\n",
       "      <td>0</td>\n",
       "    </tr>\n",
       "    <tr>\n",
       "      <th>3</th>\n",
       "      <td>20019</td>\n",
       "      <td>nadie preguntado va costar hombre guantazo sit...</td>\n",
       "      <td>1</td>\n",
       "      <td>0</td>\n",
       "      <td>1</td>\n",
       "    </tr>\n",
       "    <tr>\n",
       "      <th>4</th>\n",
       "      <td>20033</td>\n",
       "      <td>callate come sobra zorra</td>\n",
       "      <td>1</td>\n",
       "      <td>1</td>\n",
       "      <td>1</td>\n",
       "    </tr>\n",
       "    <tr>\n",
       "      <th>...</th>\n",
       "      <td>...</td>\n",
       "      <td>...</td>\n",
       "      <td>...</td>\n",
       "      <td>...</td>\n",
       "      <td>...</td>\n",
       "    </tr>\n",
       "    <tr>\n",
       "      <th>495</th>\n",
       "      <td>24930</td>\n",
       "      <td>habe pasame video adan diga puta mujeres sevil...</td>\n",
       "      <td>1</td>\n",
       "      <td>0</td>\n",
       "      <td>1</td>\n",
       "    </tr>\n",
       "    <tr>\n",
       "      <th>496</th>\n",
       "      <td>24953</td>\n",
       "      <td>callate hijo perra amor</td>\n",
       "      <td>0</td>\n",
       "      <td>0</td>\n",
       "      <td>0</td>\n",
       "    </tr>\n",
       "    <tr>\n",
       "      <th>497</th>\n",
       "      <td>24973</td>\n",
       "      <td>auténtico imbécil potencial machista ideología...</td>\n",
       "      <td>0</td>\n",
       "      <td>0</td>\n",
       "      <td>0</td>\n",
       "    </tr>\n",
       "    <tr>\n",
       "      <th>498</th>\n",
       "      <td>24983</td>\n",
       "      <td>callate q paso mili m paso ami faltas vos gord...</td>\n",
       "      <td>1</td>\n",
       "      <td>1</td>\n",
       "      <td>1</td>\n",
       "    </tr>\n",
       "    <tr>\n",
       "      <th>499</th>\n",
       "      <td>24986</td>\n",
       "      <td>traducción escucha puta sueca árabes aquí apod...</td>\n",
       "      <td>1</td>\n",
       "      <td>1</td>\n",
       "      <td>1</td>\n",
       "    </tr>\n",
       "  </tbody>\n",
       "</table>\n",
       "<p>500 rows × 5 columns</p>\n",
       "</div>"
      ],
      "text/plain": [
       "        id                                               text  HS  TR  AG\n",
       "0    20005                    comiendo picada árabe rica vida   0   0   0\n",
       "1    20006                            callate zorra mama duro   1   1   1\n",
       "2    20011  acabo escuchar casado diciendo decenas millone...   0   0   0\n",
       "3    20019  nadie preguntado va costar hombre guantazo sit...   1   0   1\n",
       "4    20033                           callate come sobra zorra   1   1   1\n",
       "..     ...                                                ...  ..  ..  ..\n",
       "495  24930  habe pasame video adan diga puta mujeres sevil...   1   0   1\n",
       "496  24953                            callate hijo perra amor   0   0   0\n",
       "497  24973  auténtico imbécil potencial machista ideología...   0   0   0\n",
       "498  24983  callate q paso mili m paso ami faltas vos gord...   1   1   1\n",
       "499  24986  traducción escucha puta sueca árabes aquí apod...   1   1   1\n",
       "\n",
       "[500 rows x 5 columns]"
      ]
     },
     "execution_count": 13,
     "metadata": {},
     "output_type": "execute_result"
    }
   ],
   "source": [
    "corpus_train_esA = procesar(corpus_train_esA, \"public_development_esTaskA/train_es_cleanA.tsv\")\n",
    "\n",
    "corpus_dev_esA = procesar(corpus_dev_esA, \"public_development_esTaskA/dev_es_cleanA.tsv\")\n",
    "corpus_dev_esA"
   ]
  },
  {
   "cell_type": "code",
   "execution_count": 5,
   "metadata": {},
   "outputs": [],
   "source": [
    "#Leyendo el corpus ya procesado-limpio A\n",
    "\n",
    "train_idA = corpus_train_esA[corpus_train_esA.columns[0]]\n",
    "X_train_textA = corpus_train_esA[corpus_train_esA.columns[1]].fillna(' ')\n",
    "y_train_hsA = corpus_train_esA[corpus_train_esA.columns[2]]\n",
    "\n",
    "test_idA = corpus_dev_esA[corpus_train_esA.columns[0]]\n",
    "X_test_textA = corpus_dev_esA[corpus_dev_esA.columns[1]].fillna(' ')\n",
    "y_test_hsA = corpus_dev_esA[corpus_dev_esA.columns[2]]"
   ]
  },
  {
   "cell_type": "code",
   "execution_count": 6,
   "metadata": {},
   "outputs": [
    {
     "name": "stdout",
     "output_type": "stream",
     "text": [
      "4469 4469\n",
      "500 500\n"
     ]
    }
   ],
   "source": [
    "print( len(X_train_textA), len(y_train_hsA) )\n",
    "\n",
    "print( len(X_test_textA), len(y_test_hsA) )"
   ]
  },
  {
   "cell_type": "code",
   "execution_count": 7,
   "metadata": {},
   "outputs": [
    {
     "name": "stdout",
     "output_type": "stream",
     "text": [
      "(4469, 1775)\n",
      "(500, 1775)\n"
     ]
    }
   ],
   "source": [
    "cvectorizer = CountVectorizer(\n",
    "    # lowercase=True,\n",
    "    #stop_words=[word.decode('utf-8') for word in nltk.corpus.stopwords.words('spanish')],\n",
    "    #token_pattern=r'\\b\\w+\\b', #selects tokens of 2 or more alphanumeric characters \n",
    "    ngram_range=(1,3),#n-grams de palabras n = 1 a n = 3 (unigramas, bigramas y trigramas)\n",
    "    min_df=5,#ignorando los términos que tienen una frecuencia de documento estrictamente inferior a 5\n",
    ").fit(X_train_textA)\n",
    "\n",
    "X_train_cvectorized = cvectorizer.transform(X_train_textA).toarray()\n",
    "print(X_train_cvectorized.shape)\n",
    "\n",
    "X_test_cvectorized = cvectorizer.transform(X_test_textA).toarray()\n",
    "print(X_test_cvectorized.shape)"
   ]
  },
  {
   "cell_type": "code",
   "execution_count": 8,
   "metadata": {},
   "outputs": [
    {
     "name": "stdout",
     "output_type": "stream",
     "text": [
      "(4469, 1775)\n",
      "(500, 1775)\n"
     ]
    }
   ],
   "source": [
    "tvectorizer = TfidfVectorizer(\n",
    "    # lowercase=True,\n",
    "    #stop_words=[word.decode('utf-8') for word in nltk.corpus.stopwords.words('spanish')],\n",
    "    #token_pattern=r'\\b\\w+\\b', #selects tokens of 2 or more alphanumeric characters \n",
    "    ngram_range=(1,3),#n-grams de palabras n = 1 a n = 3 (unigramas, bigramas y trigramas)\n",
    "    min_df=5,#ignorando los términos que tienen una frecuencia de documento estrictamente inferior a 5\n",
    ").fit(X_train_textA)\n",
    "\n",
    "X_train_tvectorized = tvectorizer.transform(X_train_textA).toarray()\n",
    "print(X_train_tvectorized.shape)\n",
    "\n",
    "X_test_tvectorized = tvectorizer.transform(X_test_textA).toarray()\n",
    "print(X_test_tvectorized.shape)"
   ]
  },
  {
   "cell_type": "markdown",
   "metadata": {},
   "source": [
    "   ### Perceptrón\n",
    "   \n",
    "   https://scikit-learn.org/stable/modules/generated/sklearn.linear_model.Perceptron.html"
   ]
  },
  {
   "cell_type": "markdown",
   "metadata": {},
   "source": [
    "### Perceptrón Multicapa (Multi-Layer Perceptron, MLP) \n",
    "\n",
    "https://scikit-learn.org/stable/modules/generated/sklearn.neural_network.MLPClassifier.html"
   ]
  },
  {
   "cell_type": "code",
   "execution_count": 9,
   "metadata": {},
   "outputs": [],
   "source": [
    "from sklearn.neural_network import MLPClassifier\n",
    "\n",
    "mlp1 = MLPClassifier(hidden_layer_sizes=(10,10,10), max_iter=500, alpha=0.0001,\n",
    "                    solver='adam', random_state=21,tol=0.000000001)\n",
    "mlp2 = MLPClassifier(hidden_layer_sizes=(6,6,6,6),solver='lbfgs',max_iter=6000)"
   ]
  },
  {
   "cell_type": "code",
   "execution_count": 10,
   "metadata": {},
   "outputs": [
    {
     "name": "stdout",
     "output_type": "stream",
     "text": [
      "\t Accuracy mlp1 cv 0.756\n",
      "\t F1-score mlp1 cv 0.7288888888888888\n",
      "\t Accuracy mlp1 tfidv 0.74\n",
      "\t F1-score mlp1 tfidv 0.7045454545454545\n"
     ]
    }
   ],
   "source": [
    "mlp1.fit( X_train_cvectorized, y_train_hsA)\n",
    "predictions1 = mlp1.predict(X_test_cvectorized)\n",
    "\n",
    "print('\\t', 'Accuracy mlp1 cv', accuracy_score(y_test_hsA, predictions1))\n",
    "print('\\t', 'F1-score mlp1 cv', f1_score(y_test_hsA, predictions1))\n",
    "\n",
    "######\n",
    "\n",
    "mlp1.fit( X_train_tvectorized, y_train_hsA)\n",
    "predictions1 = mlp1.predict(X_test_tvectorized)\n",
    "\n",
    "print('\\t', 'Accuracy mlp1 tfidv', accuracy_score(y_test_hsA, predictions1))\n",
    "print('\\t', 'F1-score mlp1 tfidv', f1_score(y_test_hsA, predictions1))"
   ]
  },
  {
   "cell_type": "code",
   "execution_count": 11,
   "metadata": {},
   "outputs": [
    {
     "name": "stdout",
     "output_type": "stream",
     "text": [
      "\t Accuracy mlp2 cv 0.744\n",
      "\t F1-score mlp2 cv 0.7180616740088105\n",
      "\t Accuracy mlp2 tfidv 0.734\n",
      "\t F1-score mlp2 tfidv 0.7164179104477612\n"
     ]
    }
   ],
   "source": [
    "mlp2.fit( X_train_cvectorized, y_train_hsA)\n",
    "predictions2 = mlp2.predict(X_test_cvectorized)\n",
    "\n",
    "print('\\t', 'Accuracy mlp2 cv', accuracy_score(y_test_hsA, predictions2))\n",
    "print('\\t', 'F1-score mlp2 cv', f1_score(y_test_hsA, predictions2))\n",
    "\n",
    "######\n",
    "\n",
    "mlp2.fit( X_train_tvectorized, y_train_hsA)\n",
    "predictions2 = mlp2.predict(X_test_tvectorized)\n",
    "\n",
    "print('\\t', 'Accuracy mlp2 tfidv', accuracy_score(y_test_hsA, predictions2))\n",
    "print('\\t', 'F1-score mlp2 tfidv', f1_score(y_test_hsA, predictions2))"
   ]
  },
  {
   "cell_type": "markdown",
   "metadata": {},
   "source": [
    "Las RN son sensibles a la escala de los datos de entrada, especialmente cuando se utilizan las funciones de activación sigmoide (por defecto) o tanh. Puede ser una buena práctica reescalar los datos al rango de 0 a 1, también llamado normalización. Podemos normalizar fácilmente el conjunto de datos utilizando la clase de preprocesamiento MinMaxScaler de la biblioteca scikit-learn."
   ]
  },
  {
   "cell_type": "code",
   "execution_count": 14,
   "metadata": {},
   "outputs": [],
   "source": [
    "# normalizacion de los datos\n",
    "from sklearn.preprocessing import StandardScaler\n",
    "from sklearn.preprocessing import MinMaxScaler\n",
    "scaler = MinMaxScaler(feature_range=(0, 1))\n",
    "X_train = scaler.fit_transform(X_train_cvectorized)\n",
    "X_test = scaler.fit_transform(X_test_cvectorized)"
   ]
  },
  {
   "cell_type": "code",
   "execution_count": 15,
   "metadata": {},
   "outputs": [
    {
     "name": "stdout",
     "output_type": "stream",
     "text": [
      "\t Accuracy mlp2 0.724\n",
      "\t F1-score mlp2 0.6745283018867924\n"
     ]
    }
   ],
   "source": [
    "mlp2.fit( X_train, y_train_hsA)\n",
    "predictions2 = mlp2.predict(X_test)\n",
    "\n",
    "print('\\t', 'Accuracy mlp2', accuracy_score(y_test_hsA, predictions2))\n",
    "print('\\t', 'F1-score mlp2', f1_score(y_test_hsA, predictions2))"
   ]
  },
  {
   "cell_type": "code",
   "execution_count": null,
   "metadata": {},
   "outputs": [],
   "source": []
  },
  {
   "cell_type": "markdown",
   "metadata": {},
   "source": [
    "## Redes neuronales recurrentes "
   ]
  },
  {
   "cell_type": "markdown",
   "metadata": {},
   "source": [
    "<b>¿Qué es Keras?</b>\n",
    "\n",
    "Keras es una biblioteca de Python minimalista para Deep Learning que puede funcionar sobre Theano o TensorFlow. Fue desarrollada con el objetivo de que los modelos de Deep Learning sean tan rápidos y fáciles tanto para la investigación como el desarrollo. Funciona en Python 2.7 o 3.6 y se puede ejecutar sin problemas sobre las GPU y las CPU. Es libre bajo una licencia del MIT. Keras fue desarrollado por Francois Chollet, un ingeniero de Google que utiliza cuatro principios rectores:\n",
    "<ul>\n",
    "    <li><b>Modularidad</b>: Un modelo puede entenderse sólo como una secuencia o como un gráfico. Todas las características de un modelo de aprendizaje profundo son componentes discretos que pueden combinarse de manera arbitraria.</li>\n",
    "    <li><b>Minimalismo</b>: La biblioteca proporciona lo justo para lograr un resultado, sin florituras y maximizando la legibilidad.</li>\n",
    "    <li><b>Extensibilidad</b>: Los nuevos componentes son intencionalmente fáciles de añadir y usar dentro del marco destinado a que los desarrolladores prueben y exploren nuevas ideas.</li>\n",
    "    <li><b>Python</b>: No hay modelos separados con formatos personalizados. Todo es nativo de Python.</li>\n",
    "</ul>\n",
    "\n",
    "\n",
    "<b>Construya modelos de Deep Learning con Keras</b>\n",
    "\n",
    "El enfoque de Keras es la idea de un modelo. El tipo principal de modelo es una secuencia de capas llamada Secuencial que es una pila lineal de capas. Se crea un Secuencial y se le añaden capas en el orden en que desea que se realice el cálculo. Una vez definido, se compila el modelo que utiliza el marco subyacente para optimizar el cálculo que se va a realizar. En este se puede especificar la función de pérdida y el optimizador a utilizar.\n",
    "\n",
    "Una vez compilado, el modelo debe ajustarse a los datos. Esto se puede hacer con un lote de datos o por el anillo o el régimen de entrenamiento del modelo entero. Aquí es donde ocurre todo el cálculo. Una vez entrenado, puede usar su modelo para hacer predicciones sobre nuevos datos. Podemos resumir la construcción de modelos de Deep learning en Keras de la siguiente manera:\n",
    "<ul>\n",
    "    <li><b>Define tu modelo</b>. Cree un modelo secuencial y añada capas.</li>\n",
    "    <li><b>Compila tu modelo</b>. Especifique la función de pérdida y los optimizadores y llame a compile() en el modelo.</li>\n",
    "    <li><b>Ajuste a su modelo</b>. Entrene el modelo sobre una muestra de datos llamando a la función fit() en el modelo.</li>\n",
    "    <li><b>Haga predicciones</b>. Utilice el modelo para generar predicciones sobre nuevos datos llamando a evaluate() o predict().</li>\n",
    "</ul>"
   ]
  },
  {
   "cell_type": "code",
   "execution_count": 16,
   "metadata": {},
   "outputs": [
    {
     "name": "stdout",
     "output_type": "stream",
     "text": [
      "(4469, 1775) 4469 Secuencia de entrenamiento\n",
      "(500, 1775) 500 Secuencia de prueba\n"
     ]
    }
   ],
   "source": [
    "print( X_train_cvectorized.shape, len(y_train_hsA), 'Secuencia de entrenamiento' )\n",
    "\n",
    "print( X_test_cvectorized.shape, len(y_test_hsA), 'Secuencia de prueba' )"
   ]
  },
  {
   "cell_type": "code",
   "execution_count": 17,
   "metadata": {},
   "outputs": [],
   "source": [
    "from keras.models import Sequential\n",
    " \n",
    "model = Sequential()"
   ]
  },
  {
   "cell_type": "code",
   "execution_count": 18,
   "metadata": {},
   "outputs": [
    {
     "name": "stdout",
     "output_type": "stream",
     "text": [
      "Model: \"sequential\"\n",
      "_________________________________________________________________\n",
      " Layer (type)                Output Shape              Param #   \n",
      "=================================================================\n",
      " embedding (Embedding)       (None, None, 32)          320000    \n",
      "                                                                 \n",
      " simple_rnn (SimpleRNN)      (None, 32)                2080      \n",
      "                                                                 \n",
      " dense (Dense)               (None, 1)                 33        \n",
      "                                                                 \n",
      "=================================================================\n",
      "Total params: 322,113\n",
      "Trainable params: 322,113\n",
      "Non-trainable params: 0\n",
      "_________________________________________________________________\n"
     ]
    }
   ],
   "source": [
    "# La clase layer de redes RNN\n",
    "from keras.layers import Embedding, SimpleRNN\n",
    "\n",
    "# Como cualquier otra layer de Keras, SimpleRNN procesa lotes de secuencias Numpy.\n",
    "# La entrada es de la forma (batch_size, timesteps, input_features) en vez de (timesteps, input_features).\n",
    "# [muestras, pasos de tiempo, características]\n",
    "\n",
    "from keras.layers import Dense\n",
    "\n",
    "max_features = 10000  # tamaño del diccionario de palabras comunes\n",
    "                      # (número de palabras a utilizar)\n",
    "maxlen = 1775         # longitud máxima de cada secuencia \n",
    "batch_size = 32\n",
    "\n",
    "# Capa embedding\n",
    "# input_dim : tamaño del vocabulario\n",
    "# output_dim: dimensión del vector al que se mapea\n",
    "#Se usa un embedding con tamaño de diccionario a los más de 10,000 y se mapean a dimensión un vector de dimensión 32\n",
    "model.add(Embedding(input_dim=max_features, output_dim=32))\n",
    "model.add(SimpleRNN(32))\n",
    "model.add(Dense(1, activation='sigmoid'))\n",
    "# RNN con una capa Embedding y una capa SimpleRNN que regresa solo una salida para cada secuencia\n",
    "\n",
    "# Resumen de la arquitectura\n",
    "model.summary()"
   ]
  },
  {
   "cell_type": "code",
   "execution_count": 19,
   "metadata": {},
   "outputs": [
    {
     "name": "stdout",
     "output_type": "stream",
     "text": [
      "Epoch 1/10\n",
      "28/28 - 31s - loss: 0.6783 - acc: 0.5843 - val_loss: 0.6727 - val_acc: 0.5794 - 31s/epoch - 1s/step\n",
      "Epoch 2/10\n",
      "28/28 - 27s - loss: 0.6722 - acc: 0.5913 - val_loss: 0.6709 - val_acc: 0.5548 - 27s/epoch - 966ms/step\n",
      "Epoch 3/10\n",
      "28/28 - 27s - loss: 0.6672 - acc: 0.6084 - val_loss: 0.6637 - val_acc: 0.6309 - 27s/epoch - 955ms/step\n",
      "Epoch 4/10\n",
      "28/28 - 27s - loss: 0.6590 - acc: 0.6338 - val_loss: 0.6519 - val_acc: 0.6365 - 27s/epoch - 971ms/step\n",
      "Epoch 5/10\n",
      "28/28 - 27s - loss: 0.6565 - acc: 0.6297 - val_loss: 0.6632 - val_acc: 0.6163 - 27s/epoch - 971ms/step\n",
      "Epoch 6/10\n",
      "28/28 - 27s - loss: 0.6584 - acc: 0.6252 - val_loss: 0.6567 - val_acc: 0.6119 - 27s/epoch - 971ms/step\n",
      "Epoch 7/10\n",
      "28/28 - 27s - loss: 0.6553 - acc: 0.6291 - val_loss: 0.6533 - val_acc: 0.6286 - 27s/epoch - 950ms/step\n",
      "Epoch 8/10\n",
      "28/28 - 27s - loss: 0.6498 - acc: 0.6327 - val_loss: 0.6508 - val_acc: 0.6286 - 27s/epoch - 951ms/step\n",
      "Epoch 9/10\n",
      "28/28 - 27s - loss: 0.6557 - acc: 0.6196 - val_loss: 0.6517 - val_acc: 0.6286 - 27s/epoch - 963ms/step\n",
      "Epoch 10/10\n",
      "28/28 - 27s - loss: 0.6480 - acc: 0.6327 - val_loss: 0.6491 - val_acc: 0.6275 - 27s/epoch - 955ms/step\n",
      "Tiempo de entrenamiento: 273.33845949172974\n"
     ]
    }
   ],
   "source": [
    "model.compile(\n",
    "    optimizer='rmsprop',\n",
    "    loss='binary_crossentropy',\n",
    "    metrics=['acc']\n",
    ")\n",
    "\n",
    "import time\n",
    "tic = time.time()\n",
    "history = model.fit(\n",
    "    X_train_cvectorized, y_train_hsA,\n",
    "    epochs=10,\n",
    "    batch_size=128,\n",
    "    validation_split=0.2,\n",
    "    verbose=2\n",
    ")\n",
    "print('Tiempo de entrenamiento:', time.time()-tic)"
   ]
  },
  {
   "cell_type": "code",
   "execution_count": 20,
   "metadata": {},
   "outputs": [
    {
     "name": "stdout",
     "output_type": "stream",
     "text": [
      "acc: 61.80%\n",
      "16/16 [==============================] - 2s 116ms/step\n",
      "\t Accuracy 0.618\n"
     ]
    }
   ],
   "source": [
    "# evaluate the model\n",
    "scores = model.evaluate(X_test_cvectorized, y_test_hsA, verbose=0)\n",
    "print(\"%s: %.2f%%\" % (model.metrics_names[1], scores[1]*100))\n",
    "# La función model.evaluate predice la salida para la entrada dada y luego calcula la función de métrica \n",
    "# especificada en model.compile y basada en y_true y y_pred y devuelve el valor de métrica calculada como salida\n",
    "\n",
    "# make predictions\n",
    "testPredict = model.predict(X_test_cvectorized)\n",
    "# model.predict simplemente devuelve el y_pred\n",
    "print('\\t', 'Accuracy', accuracy_score(y_test_hsA, testPredict.round()))\n",
    "\n",
    "# si usamos model.predict y luego calculamos las métricas uno mismo, el valor de la métrica calculada \n",
    "# debería resultar ser el mismo que model.evaluate"
   ]
  },
  {
   "cell_type": "markdown",
   "metadata": {},
   "source": [
    "### Ejemplo con Stack de RNNs"
   ]
  },
  {
   "cell_type": "code",
   "execution_count": 21,
   "metadata": {},
   "outputs": [
    {
     "name": "stdout",
     "output_type": "stream",
     "text": [
      "Model: \"sequential_1\"\n",
      "_________________________________________________________________\n",
      " Layer (type)                Output Shape              Param #   \n",
      "=================================================================\n",
      " embedding_1 (Embedding)     (None, None, 32)          320000    \n",
      "                                                                 \n",
      " simple_rnn_1 (SimpleRNN)    (None, None, 32)          2080      \n",
      "                                                                 \n",
      " simple_rnn_2 (SimpleRNN)    (None, 32)                2080      \n",
      "                                                                 \n",
      " dense_1 (Dense)             (None, 1)                 33        \n",
      "                                                                 \n",
      "=================================================================\n",
      "Total params: 324,193\n",
      "Trainable params: 324,193\n",
      "Non-trainable params: 0\n",
      "_________________________________________________________________\n",
      "Epoch 1/10\n",
      "28/28 - 60s - loss: 0.6717 - acc: 0.5961 - val_loss: 0.6543 - val_acc: 0.6208 - 60s/epoch - 2s/step\n",
      "Epoch 2/10\n",
      "28/28 - 54s - loss: 0.6598 - acc: 0.6134 - val_loss: 0.6663 - val_acc: 0.6264 - 54s/epoch - 2s/step\n",
      "Epoch 3/10\n",
      "28/28 - 55s - loss: 0.6573 - acc: 0.6347 - val_loss: 0.6582 - val_acc: 0.6309 - 55s/epoch - 2s/step\n",
      "Epoch 4/10\n",
      "28/28 - 55s - loss: 0.6533 - acc: 0.6285 - val_loss: 0.6455 - val_acc: 0.6331 - 55s/epoch - 2s/step\n",
      "Epoch 5/10\n",
      "28/28 - 52s - loss: 0.6462 - acc: 0.6322 - val_loss: 0.6467 - val_acc: 0.6320 - 52s/epoch - 2s/step\n",
      "Epoch 6/10\n",
      "28/28 - 52s - loss: 0.6446 - acc: 0.6350 - val_loss: 0.6451 - val_acc: 0.6353 - 52s/epoch - 2s/step\n",
      "Epoch 7/10\n",
      "28/28 - 52s - loss: 0.6476 - acc: 0.6229 - val_loss: 0.6469 - val_acc: 0.6320 - 52s/epoch - 2s/step\n",
      "Epoch 8/10\n",
      "28/28 - 52s - loss: 0.6421 - acc: 0.6347 - val_loss: 0.6435 - val_acc: 0.6309 - 52s/epoch - 2s/step\n",
      "Epoch 9/10\n",
      "28/28 - 53s - loss: 0.6425 - acc: 0.6336 - val_loss: 0.6425 - val_acc: 0.6365 - 53s/epoch - 2s/step\n",
      "Epoch 10/10\n",
      "28/28 - 52s - loss: 0.6411 - acc: 0.6322 - val_loss: 0.6495 - val_acc: 0.6320 - 52s/epoch - 2s/step\n",
      "Tiempo de entrenamiento: 536.1069078445435\n",
      "acc: 61.80%\n",
      "16/16 [==============================] - 4s 212ms/step\n",
      "\t Accuracy 0.618\n"
     ]
    }
   ],
   "source": [
    "# Ejemplo con Stack de RNNs\n",
    "\n",
    "model = Sequential()\n",
    "# Capa embedding\n",
    "# input_dim : tamaño del vocabulario\n",
    "# output_dim: dimensión del vector al que se mapea\n",
    "model.add(Embedding(input_dim=max_features, output_dim=32))\n",
    "model.add(SimpleRNN(32, return_sequences=True))\n",
    "model.add(SimpleRNN(32))\n",
    "model.add(Dense(1, activation='sigmoid'))\n",
    "\n",
    "model.summary()\n",
    "\n",
    "model.compile(\n",
    "    optimizer='rmsprop', \n",
    "    loss='binary_crossentropy',\n",
    "    metrics=['acc']\n",
    ")\n",
    "\n",
    "tic = time.time()\n",
    "history_stackRNN = model.fit(\n",
    "    X_train_cvectorized, y_train_hsA,\n",
    "    epochs=10,\n",
    "    batch_size=128,\n",
    "    validation_split=0.2,\n",
    "    verbose=2\n",
    ")\n",
    "print('Tiempo de entrenamiento:', time.time()-tic)\n",
    "\n",
    "# evaluate the model\n",
    "scores = model.evaluate(X_test_cvectorized, y_test_hsA, verbose=0)\n",
    "print(\"%s: %.2f%%\" % (model.metrics_names[1], scores[1]*100))\n",
    "\n",
    "# make predictions\n",
    "testPredict_stackRNN = model.predict(X_test_cvectorized)\n",
    "print('\\t', 'Accuracy', accuracy_score(y_test_hsA, testPredict_stackRNN.round()))\n"
   ]
  },
  {
   "cell_type": "code",
   "execution_count": null,
   "metadata": {},
   "outputs": [],
   "source": []
  },
  {
   "cell_type": "markdown",
   "metadata": {},
   "source": [
    "### Red de Memoria Corta a Largo Plazo (Long-Term Short Memory, LTSM)"
   ]
  },
  {
   "cell_type": "code",
   "execution_count": 22,
   "metadata": {},
   "outputs": [
    {
     "name": "stdout",
     "output_type": "stream",
     "text": [
      "Número máximo de palabras a usar: 10000\n",
      "Model: \"sequential_2\"\n",
      "_________________________________________________________________\n",
      " Layer (type)                Output Shape              Param #   \n",
      "=================================================================\n",
      " embedding_2 (Embedding)     (None, None, 32)          320000    \n",
      "                                                                 \n",
      " lstm (LSTM)                 (None, 32)                8320      \n",
      "                                                                 \n",
      " dense_2 (Dense)             (None, 1)                 33        \n",
      "                                                                 \n",
      "=================================================================\n",
      "Total params: 328,353\n",
      "Trainable params: 328,353\n",
      "Non-trainable params: 0\n",
      "_________________________________________________________________\n",
      "Epoch 1/6\n",
      "28/28 - 75s - loss: 0.6793 - acc: 0.5913 - val_loss: 0.6809 - val_acc: 0.5783 - 75s/epoch - 3s/step\n",
      "Epoch 2/6\n",
      "28/28 - 68s - loss: 0.6773 - acc: 0.5913 - val_loss: 0.6822 - val_acc: 0.5783 - 68s/epoch - 2s/step\n",
      "Epoch 3/6\n",
      "28/28 - 69s - loss: 0.6770 - acc: 0.5913 - val_loss: 0.6805 - val_acc: 0.5783 - 69s/epoch - 2s/step\n",
      "Epoch 4/6\n",
      "28/28 - 68s - loss: 0.6765 - acc: 0.5913 - val_loss: 0.6823 - val_acc: 0.5783 - 68s/epoch - 2s/step\n",
      "Epoch 5/6\n",
      "28/28 - 68s - loss: 0.6768 - acc: 0.5913 - val_loss: 0.6803 - val_acc: 0.5783 - 68s/epoch - 2s/step\n",
      "Epoch 6/6\n",
      "28/28 - 67s - loss: 0.6760 - acc: 0.5913 - val_loss: 0.6814 - val_acc: 0.5783 - 67s/epoch - 2s/step\n",
      "tiempo de entrenamiento:  415.0536079406738\n",
      "acc: 55.60%\n",
      "16/16 [==============================] - 5s 235ms/step\n",
      "\t Accuracy 0.556\n"
     ]
    }
   ],
   "source": [
    "from keras.layers import LSTM\n",
    "\n",
    "print('Número máximo de palabras a usar:', max_features)\n",
    "\n",
    "# Creamos el modelo con la incrustación (embedding)\n",
    "\n",
    "model = Sequential()\n",
    "model.add(Embedding(max_features, 32))\n",
    "\n",
    "# Incluimos una capa LSTM\n",
    "model.add(LSTM(32))\n",
    "model.add(Dense(1, activation='sigmoid'))\n",
    "\n",
    "model.summary()\n",
    "\n",
    "# Parámetros de entrenamiento\n",
    "model.compile(\n",
    "    optimizer='rmsprop',\n",
    "    loss='binary_crossentropy',\n",
    "    metrics=['acc']\n",
    ")\n",
    "\n",
    "# y entrenamos\n",
    "tic=time.time()\n",
    "history_LSTM = model.fit(\n",
    "    X_train_cvectorized, y_train_hsA,\n",
    "    epochs=6,\n",
    "    batch_size=128,\n",
    "    validation_split=0.2,\n",
    "    verbose=2\n",
    ")\n",
    "print('tiempo de entrenamiento: ', time.time()-tic)\n",
    "\n",
    "# evaluate the model\n",
    "scores = model.evaluate(X_test_cvectorized, y_test_hsA, verbose=0)\n",
    "print(\"%s: %.2f%%\" % (model.metrics_names[1], scores[1]*100))\n",
    "\n",
    "# make predictions\n",
    "testPredict_LSTM = model.predict(X_test_cvectorized)\n",
    "print('\\t', 'Accuracy', accuracy_score(y_test_hsA, testPredict_LSTM.round()))"
   ]
  },
  {
   "cell_type": "code",
   "execution_count": null,
   "metadata": {},
   "outputs": [],
   "source": []
  },
  {
   "cell_type": "markdown",
   "metadata": {},
   "source": [
    "### Redes con Unidades Recurrentes con Compuertas (Gated-RU)"
   ]
  },
  {
   "cell_type": "code",
   "execution_count": 23,
   "metadata": {},
   "outputs": [
    {
     "name": "stdout",
     "output_type": "stream",
     "text": [
      "Model: \"sequential_3\"\n",
      "_________________________________________________________________\n",
      " Layer (type)                Output Shape              Param #   \n",
      "=================================================================\n",
      " embedding_3 (Embedding)     (None, None, 32)          320000    \n",
      "                                                                 \n",
      " gru (GRU)                   (None, 32)                6336      \n",
      "                                                                 \n",
      " dense_3 (Dense)             (None, 1)                 33        \n",
      "                                                                 \n",
      "=================================================================\n",
      "Total params: 326,369\n",
      "Trainable params: 326,369\n",
      "Non-trainable params: 0\n",
      "_________________________________________________________________\n",
      "Epoch 1/10\n",
      "28/28 - 60s - loss: 0.6776 - acc: 0.5863 - val_loss: 0.6810 - val_acc: 0.5783 - 60s/epoch - 2s/step\n",
      "Epoch 2/10\n",
      "28/28 - 53s - loss: 0.6769 - acc: 0.5913 - val_loss: 0.6821 - val_acc: 0.5783 - 53s/epoch - 2s/step\n",
      "Epoch 3/10\n",
      "28/28 - 39s - loss: 0.6764 - acc: 0.5913 - val_loss: 0.6810 - val_acc: 0.5783 - 39s/epoch - 1s/step\n",
      "Epoch 4/10\n",
      "28/28 - 23s - loss: 0.6771 - acc: 0.5913 - val_loss: 0.6809 - val_acc: 0.5783 - 23s/epoch - 833ms/step\n",
      "Epoch 5/10\n",
      "28/28 - 25s - loss: 0.6769 - acc: 0.5913 - val_loss: 0.6810 - val_acc: 0.5783 - 25s/epoch - 909ms/step\n",
      "Epoch 6/10\n",
      "28/28 - 25s - loss: 0.6770 - acc: 0.5913 - val_loss: 0.6811 - val_acc: 0.5783 - 25s/epoch - 905ms/step\n",
      "Epoch 7/10\n",
      "28/28 - 27s - loss: 0.6762 - acc: 0.5913 - val_loss: 0.6810 - val_acc: 0.5783 - 27s/epoch - 977ms/step\n",
      "Epoch 8/10\n",
      "28/28 - 28s - loss: 0.6770 - acc: 0.5913 - val_loss: 0.6809 - val_acc: 0.5783 - 28s/epoch - 1s/step\n",
      "Epoch 9/10\n",
      "28/28 - 29s - loss: 0.6769 - acc: 0.5913 - val_loss: 0.6813 - val_acc: 0.5783 - 29s/epoch - 1s/step\n",
      "Epoch 10/10\n",
      "28/28 - 28s - loss: 0.6771 - acc: 0.5913 - val_loss: 0.6813 - val_acc: 0.5783 - 28s/epoch - 997ms/step\n",
      "Tiempo de entrenamiento: 339.8008759021759\n",
      "acc: 55.60%\n",
      "16/16 [==============================] - 2s 88ms/step\n",
      "\t Accuracy 0.556\n"
     ]
    }
   ],
   "source": [
    "from keras.layers import GRU\n",
    "\n",
    "model = Sequential()\n",
    "# Capa embedding\n",
    "# input_dim : tamaño del vocabulario\n",
    "# output_dim: dimensión del vector al que se mapea\n",
    "\n",
    "model.add(Embedding(input_dim=max_features, output_dim=32))\n",
    "# comentar la siguiente linea para evaluar dropout \n",
    "model.add(GRU(32))\n",
    "# descomentar la siguiente linea para evaluar dropout \n",
    "#model.add(GRU(32, dropout=.2, recurrent_dropout=0.2))\n",
    "model.add(Dense(1, activation='sigmoid'))\n",
    "\n",
    "model.summary()\n",
    "\n",
    "model.compile(optimizer='rmsprop', \n",
    "              loss='binary_crossentropy',\n",
    "              metrics=['acc'])\n",
    "\n",
    "tic = time.time()\n",
    "history_GRU = model.fit(\n",
    "    X_train_cvectorized, y_train_hsA,\n",
    "    epochs=10,\n",
    "    batch_size=128,\n",
    "    validation_split=0.2,\n",
    "    verbose=2\n",
    ")\n",
    "print('Tiempo de entrenamiento:', time.time()-tic)\n",
    "\n",
    "# evaluate the model\n",
    "scores = model.evaluate(X_test_cvectorized, y_test_hsA, verbose=0)\n",
    "print(\"%s: %.2f%%\" % (model.metrics_names[1], scores[1]*100))\n",
    "\n",
    "# make predictions\n",
    "testPredict_GRU = model.predict(X_test_cvectorized)\n",
    "print('\\t', 'Accuracy', accuracy_score(y_test_hsA, testPredict_GRU.round()))"
   ]
  },
  {
   "cell_type": "code",
   "execution_count": null,
   "metadata": {},
   "outputs": [],
   "source": []
  },
  {
   "cell_type": "markdown",
   "metadata": {},
   "source": [
    "### Modelos basados en atención y transformers"
   ]
  },
  {
   "cell_type": "code",
   "execution_count": null,
   "metadata": {},
   "outputs": [],
   "source": []
  },
  {
   "cell_type": "code",
   "execution_count": null,
   "metadata": {},
   "outputs": [],
   "source": []
  },
  {
   "cell_type": "code",
   "execution_count": null,
   "metadata": {},
   "outputs": [],
   "source": []
  },
  {
   "cell_type": "code",
   "execution_count": 24,
   "metadata": {},
   "outputs": [
    {
     "ename": "SyntaxError",
     "evalue": "invalid syntax (1090600506.py, line 1)",
     "output_type": "error",
     "traceback": [
      "\u001b[1;36m  Input \u001b[1;32mIn [24]\u001b[1;36m\u001b[0m\n\u001b[1;33m    https://machinelearningmastery.com/time-series-prediction-lstm-recurrent-neural-networks-python-keras/\u001b[0m\n\u001b[1;37m          ^\u001b[0m\n\u001b[1;31mSyntaxError\u001b[0m\u001b[1;31m:\u001b[0m invalid syntax\n"
     ]
    }
   ],
   "source": [
    "https://machinelearningmastery.com/time-series-prediction-lstm-recurrent-neural-networks-python-keras/\n",
    "    \n",
    "    https://towardsdatascience.com/recurrent-neural-networks-by-example-in-python-ffd204f99470\n",
    "        \n",
    "        http://personal.cimat.mx:8181/~mrivera/cursos/aprendizaje_profundo/RNN_LTSM/introduccion_rnn.html\n",
    "                \n",
    "                https://unipython.com/prediccion-con-series-temporales-con-lstm-redes-neuronales-recurrentes/"
   ]
  }
 ],
 "metadata": {
  "kernelspec": {
   "display_name": "Python 3 (ipykernel)",
   "language": "python",
   "name": "python3"
  },
  "language_info": {
   "codemirror_mode": {
    "name": "ipython",
    "version": 3
   },
   "file_extension": ".py",
   "mimetype": "text/x-python",
   "name": "python",
   "nbconvert_exporter": "python",
   "pygments_lexer": "ipython3",
   "version": "3.9.12"
  }
 },
 "nbformat": 4,
 "nbformat_minor": 2
}
