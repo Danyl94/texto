{
 "cells": [
  {
   "cell_type": "markdown",
   "id": "55e3c709",
   "metadata": {},
   "source": [
    "<h2><font color=\"#004D7F\" size=6> Expresiones regualares Tarea2</font></h2>\n",
    "\n",
    "\n",
    "\n",
    "<br><br>\n",
    "<div style=\"text-align: right\">\n",
    "<font color=\"#004D7F\" size=3>Danyela Luengas</font><br>\n",
    "<font color=\"#004D7F\" size=3>Procesamiento de lenguaje natural o minería de textos</font><br>"
   ]
  },
  {
   "cell_type": "markdown",
   "id": "85f22159",
   "metadata": {},
   "source": [
    "## Tarea\n",
    "\n",
    "Se tiene un archivo (dates.txt) donde cada línea de este corresponde a una nota médica y cada nota tiene una fecha que debe extraerse, pero cada fecha está codificada en uno de muchos formatos. Por ejemplo, se muestra a continuación una lista de algunas de las variantes que se puede encontrar en este conjunto de datos:\n",
    "<ul>\n",
    "    <li>04/20/2009; 04/20/09; 4/20/09; 4/3/09</li>\n",
    "    <li>Mar-20-2009; Mar 20, 2009; March 20, 2009; Mar. 20, 2009; Mar 20 2009;</li>\n",
    "    <li>20 Mar 2009; 20 March 2009; 20 Mar. 2009; 20 March, 2009</li>\n",
    "    <li>Mar 20th, 2009; Mar 21st, 2009; Mar 22nd, 2009</li>\n",
    "    <li>Feb 2009; Sep 2009; Oct 2010</li>\n",
    "    <li>6/2008; 12/2009</li>\n",
    "    <li>2009; 2010</li>\n",
    "</ul>\n",
    "La actividad consiste en:\n",
    "<p>a). Identificar correctamente todas las diferentes variantes de fecha codificadas en este conjunto de datos, normalizar y ordenar adecuadamente las fechas.</p>\n",
    "<p>b).\tUna vez que haya extraído estos patrones de fecha del texto, el siguiente paso es clasificarlos en orden cronológico ascendente de acuerdo con las siguientes reglas:</p>\n",
    "<ul>\n",
    "    <li>Todas las fechas están en formato xx/xx/xx son mm/dd/aa</li>\n",
    "    <li>Todas las fechas en las que el año está codificado en solo dos dígitos corresponden a años posteriores a la década de 1900 (p. Ej., 1/5/89 es el 5 de enero de 1989).</li>\n",
    "    <li>Si falta el día (p. Ej., 9/2009), suponga que es el primer día del mes (p. Ej., septiembre, 1 de 2009).</li>\n",
    "    <li>Si falta el mes (por ejemplo, 2010), suponga que es el primero de enero de ese año (p. Ej., enero, 1 de 2010).</li>\n",
    "    <li>Tenga cuidado con los posibles errores tipográficos, ya que este es un conjunto de datos derivados de la vida real.</li>\n",
    "    <li>Para el ordenamiento cronológico puede hacer uso de la librería de datetime de Python.</li>\n",
    "</ul>\n",
    "Esta función debería devolver una lista de longitud 500.\n"
   ]
  },
  {
   "cell_type": "code",
   "execution_count": 67,
   "id": "b3e6aa15",
   "metadata": {},
   "outputs": [
    {
     "data": {
      "text/plain": [
       "str"
      ]
     },
     "execution_count": 67,
     "metadata": {},
     "output_type": "execute_result"
    }
   ],
   "source": [
    "#lee el archivo\n",
    "import re\n",
    "import pandas as pd \n",
    "\n",
    "dat=open('dates.txt','r',  encoding='utf8')\n",
    "dat.seek(0)\n",
    "tex1=dat.read()\n",
    "\n",
    "\n",
    "tex2=re.split(\"\\n+\", tex1)\n",
    "type(tex1)"
   ]
  },
  {
   "cell_type": "code",
   "execution_count": 68,
   "id": "2f2f96c7",
   "metadata": {},
   "outputs": [
    {
     "data": {
      "text/plain": [
       "list"
      ]
     },
     "execution_count": 68,
     "metadata": {},
     "output_type": "execute_result"
    }
   ],
   "source": [
    "# convierte  list a str \n",
    "tex=' '.join([str(item) for item in tex2])\n",
    "type(tex2)"
   ]
  },
  {
   "cell_type": "code",
   "execution_count": 69,
   "id": "5e6acf92",
   "metadata": {},
   "outputs": [],
   "source": [
    "# re.compile(r'^(0?[1-9]|[12][0-9]|3[01])/(0?[1-9]|1[012])/((19|20)\\d\\d)$')"
   ]
  },
  {
   "cell_type": "code",
   "execution_count": 70,
   "id": "a9f6d80b",
   "metadata": {},
   "outputs": [],
   "source": [
    "#extrae las fechas \n",
    "x1=[w for w in tex.split(' ') if re.search('^(0?[1-9]|[12][0-9]|3[01])/(0?[1-9]|1[012])/((19|20)\\d\\d)$', w)  ] \n",
    "x2=[w for w in tex.split(' ') if re.search('^(0?[1-9]|1[012])([-/ ])(0?[1-9]|[12][0-9]|3[01])([-/ ])((19|20)\\d\\d)$', w)  ] \n",
    "x3=[w for w in tex.split(' ') if re.search('^(0?[1-9]|[12][0-9]|3[01])([-/ , ])((19|20)\\d\\d)$', w)  ] \n",
    "x4=[w for w in tex.split(' ') if re.search('^((19|20)\\d\\d)$', w)  ] \n",
    "x5=[w for w in tex.split(' ') if re.search('^([a-z0-9\\.-_ ])+([-/ ])(0?[1-9]|[12][0-9]|3[01])([-/ ])(\\d\\d)$', w)  ] \n",
    "x5[68]='11/14/83'\n"
   ]
  },
  {
   "cell_type": "code",
   "execution_count": 71,
   "id": "3412c700",
   "metadata": {},
   "outputs": [],
   "source": [
    "#unse las listas \n",
    "x=(x1+ x2+x3+x4+x5)\n",
    "#convierte en datatime l lista\n",
    "xx=pd.to_datetime(x)\n",
    "xxx=pd.to_datetime(xx, dayfirst=True, format= \"%Y-%m-%d\",  errors = 'coerce')\n"
   ]
  },
  {
   "cell_type": "code",
   "execution_count": 72,
   "id": "12b7a807",
   "metadata": {},
   "outputs": [
    {
     "data": {
      "text/plain": [
       "382"
      ]
     },
     "execution_count": 72,
     "metadata": {},
     "output_type": "execute_result"
    }
   ],
   "source": [
    "# utiliza la librería numpy para organizar de forma cronologica \n",
    "import numpy as np\n",
    "fechas=np.array(xxx)\n",
    "fechas.sort()\n",
    "len(fechas)"
   ]
  },
  {
   "cell_type": "code",
   "execution_count": null,
   "id": "9b541dc0",
   "metadata": {},
   "outputs": [],
   "source": []
  },
  {
   "cell_type": "code",
   "execution_count": null,
   "id": "62df16d6",
   "metadata": {},
   "outputs": [],
   "source": []
  }
 ],
 "metadata": {
  "kernelspec": {
   "display_name": "Python 3 (ipykernel)",
   "language": "python",
   "name": "python3"
  },
  "language_info": {
   "codemirror_mode": {
    "name": "ipython",
    "version": 3
   },
   "file_extension": ".py",
   "mimetype": "text/x-python",
   "name": "python",
   "nbconvert_exporter": "python",
   "pygments_lexer": "ipython3",
   "version": "3.9.12"
  }
 },
 "nbformat": 4,
 "nbformat_minor": 5
}
